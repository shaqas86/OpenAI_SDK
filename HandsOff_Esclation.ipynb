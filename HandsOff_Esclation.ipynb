{
  "nbformat": 4,
  "nbformat_minor": 0,
  "metadata": {
    "colab": {
      "provenance": [],
      "authorship_tag": "ABX9TyNdkYmkIX6jXSD5ymp5T0TX",
      "include_colab_link": true
    },
    "kernelspec": {
      "name": "python3",
      "display_name": "Python 3"
    },
    "language_info": {
      "name": "python"
    }
  },
  "cells": [
    {
      "cell_type": "markdown",
      "metadata": {
        "id": "view-in-github",
        "colab_type": "text"
      },
      "source": [
        "<a href=\"https://colab.research.google.com/github/shaqas86/OpenAI_SDK/blob/main/HandsOff_Esclation.ipynb\" target=\"_parent\"><img src=\"https://colab.research.google.com/assets/colab-badge.svg\" alt=\"Open In Colab\"/></a>"
      ]
    },
    {
      "cell_type": "markdown",
      "source": [
        "#Install openai-agents SDK\n"
      ],
      "metadata": {
        "id": "BQTR6OQFhhyv"
      }
    },
    {
      "cell_type": "code",
      "source": [
        "!pip install -Uq openai-agents"
      ],
      "metadata": {
        "id": "A2U0glvzhmMP"
      },
      "execution_count": null,
      "outputs": []
    },
    {
      "cell_type": "code",
      "source": [
        "import nest_asyncio\n",
        "nest_asyncio.apply()"
      ],
      "metadata": {
        "id": "lp6bCTqehuBY"
      },
      "execution_count": null,
      "outputs": []
    },
    {
      "cell_type": "code",
      "source": [
        "from pydantic import BaseModel\n",
        "from agents import (\n",
        "    AsyncOpenAI,\n",
        "    OpenAIChatCompletionsModel,\n",
        "    RunConfig\n",
        ")\n",
        "from google.colab import userdata"
      ],
      "metadata": {
        "id": "_Zyu-McchvSZ"
      },
      "execution_count": null,
      "outputs": []
    },
    {
      "cell_type": "code",
      "source": [
        "gemini_api_key = userdata.get(\"GEMINI_API_KEY\")\n",
        "\n",
        "\n",
        "# Check if the API key is present; if not, raise an error\n",
        "if not gemini_api_key:\n",
        "    raise ValueError(\"GEMINI_API_KEY is not set. Please ensure it is defined in your .env file.\")\n",
        "\n",
        "#Reference: https://ai.google.dev/gemini-api/docs/openai\n",
        "external_client = AsyncOpenAI(\n",
        "    api_key=gemini_api_key,\n",
        "    base_url=\"https://generativelanguage.googleapis.com/v1beta/openai/\",\n",
        ")\n",
        "\n",
        "model = OpenAIChatCompletionsModel(\n",
        "    model=\"gemini-2.0-flash\",\n",
        "    openai_client=external_client\n",
        ")"
      ],
      "metadata": {
        "id": "5h7ROpfWh0__"
      },
      "execution_count": null,
      "outputs": []
    },
    {
      "cell_type": "code",
      "source": [
        "from agents import set_default_openai_client, set_tracing_disabled\n",
        "set_default_openai_client(external_client)\n",
        "set_tracing_disabled(True)"
      ],
      "metadata": {
        "id": "_QMEVo7sh6Cv"
      },
      "execution_count": null,
      "outputs": []
    },
    {
      "cell_type": "markdown",
      "source": [
        "#HANDSOFF FUNCTION"
      ],
      "metadata": {
        "id": "FWrjuR1qiLlg"
      }
    },
    {
      "cell_type": "code",
      "source": [
        "from pydantic import BaseModel\n",
        "\n",
        "from agents import Agent, handoff, RunContextWrapper\n",
        "\n",
        "class EscalationData(BaseModel):\n",
        "    reason: str\n",
        "\n",
        "async def on_handoff(ctx: RunContextWrapper[None], input_data: EscalationData):\n",
        "    print(f\"Escalation agent called with reason: {input_data.reason}\")\n",
        "\n",
        "agent = Agent(name=\"Escalation agent\",model=model)\n",
        "\n",
        "handoff_obj = handoff(\n",
        "    agent=agent,\n",
        "    on_handoff=on_handoff,\n",
        "    input_type=EscalationData,\n",
        ")"
      ],
      "metadata": {
        "id": "0sAyBaVNh97X"
      },
      "execution_count": null,
      "outputs": []
    },
    {
      "cell_type": "markdown",
      "source": [
        "#Enable Logging"
      ],
      "metadata": {
        "id": "-LBW1wZLia54"
      }
    },
    {
      "cell_type": "code",
      "source": [
        "from agents import enable_verbose_stdout_logging\n",
        "\n",
        "enable_verbose_stdout_logging()"
      ],
      "metadata": {
        "id": "8dkvB-abiWFR"
      },
      "execution_count": null,
      "outputs": []
    },
    {
      "cell_type": "code",
      "source": [
        "async def run_escalation():\n",
        "    # Await the result of the asynchronous Runner.run method\n",
        "    result = await Runner.run(agent, input=\"escalate\")\n",
        "    print(result)\n",
        "    print(result.final_output)\n",
        "\n",
        "# Run the async function\n",
        "asyncio.run(run_escalation())"
      ],
      "metadata": {
        "id": "RVcWMtw4ifsX"
      },
      "execution_count": null,
      "outputs": []
    },
    {
      "cell_type": "code",
      "source": [
        "from agents import Agent, handoff\n",
        "from agents.extensions import handoff_filters\n",
        "\n",
        "agent = Agent(name=\"FAQ agent\",model=model)\n",
        "\n",
        "handoff_obj = handoff(\n",
        "    agent=agent,\n",
        "    input_filter=handoff_filters.remove_all_tools,\n",
        ")"
      ],
      "metadata": {
        "id": "9nPmF7pLisZu"
      },
      "execution_count": null,
      "outputs": []
    },
    {
      "cell_type": "code",
      "source": [
        "async def run_escalation():\n",
        "    # Await the result of the asynchronous Runner.run method\n",
        "    result = await Runner.run(agent, input=\"escalate\")\n",
        "    print(result)\n",
        "    print(result.final_output)\n",
        "\n",
        "# Run the async function\n",
        "asyncio.run(run_escalation())"
      ],
      "metadata": {
        "id": "ZxHDMVEAizNm"
      },
      "execution_count": null,
      "outputs": []
    }
  ]
}